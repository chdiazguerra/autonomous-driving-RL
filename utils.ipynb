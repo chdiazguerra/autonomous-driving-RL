{
 "cells": [
  {
   "cell_type": "markdown",
   "metadata": {},
   "source": [
    "## Create Expert Dataset"
   ]
  },
  {
   "cell_type": "code",
   "execution_count": null,
   "metadata": {},
   "outputs": [],
   "source": [
    "import os\n",
    "import pickle"
   ]
  },
  {
   "cell_type": "code",
   "execution_count": null,
   "metadata": {},
   "outputs": [],
   "source": [
    "folder = '../datosExperto/withExoVehicles'\n",
    "route = \"Route_2\"\n",
    "weathers = [\"ClearSunset\", \"ClearNoon\", \"WetNoon\", \"HardRainNoon\"]"
   ]
  },
  {
   "cell_type": "code",
   "execution_count": null,
   "metadata": {},
   "outputs": [],
   "source": [
    "datos = []\n",
    "for weather in weathers:\n",
    "    print(f\"Procesando {weather}\")\n",
    "    lista = os.listdir(os.path.join(folder, weather, route))\n",
    "    cantidad = 0\n",
    "    for i in lista:\n",
    "        with open(os.path.join(folder, weather, route, i), 'rb') as f:\n",
    "            data = pickle.load(f)\n",
    "        for obs, act, rew, next_obs, done, info in data[2:]:\n",
    "            datos.append((obs, act, rew, next_obs, done))\n",
    "            cantidad += 1\n",
    "            if cantidad == 4000:\n",
    "                break\n",
    "        if cantidad == 4000:\n",
    "            break\n",
    "    print(cantidad)"
   ]
  }
 ],
 "metadata": {
  "kernelspec": {
   "display_name": "carla",
   "language": "python",
   "name": "python3"
  },
  "language_info": {
   "codemirror_mode": {
    "name": "ipython",
    "version": 3
   },
   "file_extension": ".py",
   "mimetype": "text/x-python",
   "name": "python",
   "nbconvert_exporter": "python",
   "pygments_lexer": "ipython3",
   "version": "3.7.12"
  },
  "orig_nbformat": 4
 },
 "nbformat": 4,
 "nbformat_minor": 2
}
